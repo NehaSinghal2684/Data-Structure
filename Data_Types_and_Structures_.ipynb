{
  "nbformat": 4,
  "nbformat_minor": 0,
  "metadata": {
    "colab": {
      "provenance": []
    },
    "kernelspec": {
      "name": "python3",
      "display_name": "Python 3"
    },
    "language_info": {
      "name": "python"
    }
  },
  "cells": [
    {
      "cell_type": "markdown",
      "source": [
        "# *Theoretical Questions: *"
      ],
      "metadata": {
        "id": "CIlaypZT0MXi"
      }
    },
    {
      "cell_type": "markdown",
      "source": [
        "**Q1.** What are data structures, and why are they important ?  \n",
        "Ans: Data Structures are a way of organizing data so that it can be accessed more efficiently depending upon the situation. Data Structures are fundamentals of any programming language around which a program is built.A data structure is a specialized format for organizing, processing, retrieving and storing data.\n",
        "Python helps to learn the fundamental of these data structures in a simpler way as compared to other programming languages.\n"
      ],
      "metadata": {
        "id": "3rWwrlAx0NxE"
      }
    },
    {
      "cell_type": "markdown",
      "source": [
        "**Q2.**Explain the difference between mutable and immutable data types with examples.  \n",
        "Ans.A Python data type defines the type of data stored in a variable.  \n",
        "Python data type is categorized into two types:  \n",
        "**Mutable Data Type** - A mutable data type is one whose values can be changed.  \n",
        "Example: List, Dictionaries, and Set .  \n",
        "**Immutable Data Type** - An immutable data type is one in which the values can’t be changed or altered.  \n",
        "Example: String and Tuples"
      ],
      "metadata": {
        "id": "5edGyBak57f0"
      }
    },
    {
      "cell_type": "markdown",
      "source": [
        "**Q3.** What are the main differences between lists and tuples in Python ?  \n",
        "Ans:   **list** :  1.Lists can be modified by adding or removing elements.  \n",
        "2.The implication of iterations is Time-consuming.  \n",
        "3.Lists consume more memory .  \n",
        "**tuples** :  1. tuple can not be modified by adding or removing elements.  \n",
        "2.The implication of iterations is comparatively Faster.  \n",
        "3.Tuple consumes less memory as compared to the list ."
      ],
      "metadata": {
        "id": "RDmZu9i88Pr7"
      }
    },
    {
      "cell_type": "markdown",
      "source": [
        "**Q4.**  Describe how dictionaries store data ?  \n",
        "Ans: Dictionaries are used to store data values in key:value pairs. A dictionary is a collection which is ordered*, changeable and do not allow duplicates.Store Values in Dictionary in Python Using zip Function . As of Python version 3.7, dictionaries are ordered. In Python 3.6 and earlier, dictionaries are unordered."
      ],
      "metadata": {
        "id": "8d52GS_iDefs"
      }
    },
    {
      "cell_type": "markdown",
      "source": [
        "\n",
        "**Q5.** Why might you use a set instead of a list in Python?  \n",
        "Ans: Reasons to Use Sets over Lists :  \n",
        "1.Order doesn't matter. Unlike lists, sets do not store ordered data.  \n",
        "2.Duplicates are irrelevant.sets cannot contain duplicates.  \n",
        "3.Processing speed matters."
      ],
      "metadata": {
        "id": "rW8PoLKmFsWY"
      }
    },
    {
      "cell_type": "markdown",
      "source": [
        "**Q6.** What is a string in Python, and how is it different from a list ?  \n",
        "Ans: **Strings :** In Python,strings are sequences of characters enclosed in quotes ('' or “”).  eg. (\"python program\").Strings are immutable, meaning they cannot be changed once created.  \n",
        "**list:** lists are ordered collections of items enclosed in square brackets []. eg.  [ 1 , 2 , 5.6 , \"python\" ]\n",
        "lists are mutable and can be modified as needed."
      ],
      "metadata": {
        "id": "u4aRM6UuI9aY"
      }
    },
    {
      "cell_type": "markdown",
      "source": [
        "**Q7.** How do tuples ensure data integrity in Python ?  \n",
        "Ans: Tuples are immutable to ensure that their contents remain constant throughout their lifecycle,surly data integrity and reliability. This immutability allows tuples to be used as keys in dictionaries and elements in sets, as they can be hashed."
      ],
      "metadata": {
        "id": "U_hYjnC5OoRP"
      }
    },
    {
      "cell_type": "markdown",
      "source": [
        "**Q8.** What is a hash table, and how does it relate to dictionaries in Python ?  \n",
        "Ans:A Hash Table in Python is a data structure where data is stored in an associative manner. In hash tables, data is stored in an array format, with every data value having an exclusive or unique index value. This type of storage offers quick access to data if the index of the data required is available .  \n",
        "In Python, the Dictionary data types represent the implementation of hash tables. The Keys in the dictionary are hashable,they are generated by a hash function which generates a unique result for each unique value supplied to the hash function."
      ],
      "metadata": {
        "id": "eWjJ__xuQAQL"
      }
    },
    {
      "cell_type": "markdown",
      "source": [
        "**Q9.** Can lists contain different data types in Python ?  \n",
        "Ans: Yes, a list can contain a mix of Python data types including strings, floats, and booleans."
      ],
      "metadata": {
        "id": "hoeIuWbHROXs"
      }
    },
    {
      "cell_type": "markdown",
      "source": [
        "**Q10.**  Explain why strings are immutable in Python .  \n",
        "Ans: Strings in Python are “immutable” which means they can not be changed after they are created.\n",
        "The immutability of Python string is very useful as it helps in hashing, performance optimization, safety, ease of use, etc.  \n",
        "String immutability provides inherent thread safety. When multiple threads access the same immutable object, there’s no risk of data corruption due to concurrent modifications."
      ],
      "metadata": {
        "id": "ThZMBuOPSDG0"
      }
    },
    {
      "cell_type": "markdown",
      "source": [
        "**Q11.** What advantages do dictionaries offer over lists for certain tasks?  \n",
        "Ans: A list can store any data type. In contrast, keys in the dictionary can be of any immutable data type, and values can be of any data type. Lists perform faster for ordered operations like sorting, while dictionaries perform faster for lookup operations.  \n",
        "It is more efficient to use dictionaries for the searching of elements as it can be carried out in a much faster manner."
      ],
      "metadata": {
        "id": "reozwfS_UoCo"
      }
    },
    {
      "cell_type": "markdown",
      "source": [
        "**Q12.**Describe a scenario where using a tuple would be preferable over a list.  \n",
        "Ans:We prefer, tuples over the lists are as follows:   \n",
        "Tuples are faster than lists. Tuples make the code safe from any by mistake modification. If a data is needed in a program which is not supposed to be changed, then it is better to put it in 'tuples' than in 'list'.Tuples are generally faster and more memory-efficient than lists, making them better for fixed collections, especially as dictionary keys or when iteration speed is crucial."
      ],
      "metadata": {
        "id": "y8rb7Rq4WGZN"
      }
    },
    {
      "cell_type": "markdown",
      "source": [
        "**Q13.** How do sets handle duplicate values in Python ?  \n",
        "Ans: Items of a set in python are immutable (unchangeable), do not duplicate values, and unordered. Thus, items in a set do not appear in a stipulated manner, i.e., they can appear in a different order every time it is used. Due to this, set items cannot be referred to by key or index.\n",
        "\n",
        "After a set is created, its items cannot be changed. However, new items can be added. As we mentioned, all set items need to be unique because duplicates are not allowed. Items in a set can be of any data type."
      ],
      "metadata": {
        "id": "QR_9UCW2XSkp"
      }
    },
    {
      "cell_type": "markdown",
      "source": [
        "**Q14.** How does the “in” keyword work differently for lists and dictionaries?  \n",
        "Ans:The 'in' operator is used to check if a value exists in a sequence like a list, tuple, or string.  \n",
        "The ‘in’ operator used with dictionaries to check if a key is in the dictionary, not values. If you want to check if a value is in the dictionary, you can use the values() method:  \n",
        "Here’s an examples:  "
      ],
      "metadata": {
        "id": "nCfyApoKX_Sg"
      }
    },
    {
      "cell_type": "code",
      "source": [
        "# use if \"in\" operator in list\n",
        "list = [1,2,3,4,5]\n",
        "print(1 in list)"
      ],
      "metadata": {
        "colab": {
          "base_uri": "https://localhost:8080/"
        },
        "id": "pBzUzOUgXwRi",
        "outputId": "16a89701-bdd1-4b6a-ac9b-f9bf81fc9ec5"
      },
      "execution_count": 31,
      "outputs": [
        {
          "output_type": "stream",
          "name": "stdout",
          "text": [
            "True\n"
          ]
        }
      ]
    },
    {
      "cell_type": "code",
      "source": [
        "# use of \"in\" operator in dictionaries\n",
        "person = {'name': 'Avi', 'age': 7 , 'city': 'Delhi'}\n",
        "print('age' in person)"
      ],
      "metadata": {
        "colab": {
          "base_uri": "https://localhost:8080/"
        },
        "id": "XtLeTUUcYE_X",
        "outputId": "c9fd0f77-f461-4a1a-fb8f-38b110326e31"
      },
      "execution_count": 32,
      "outputs": [
        {
          "output_type": "stream",
          "name": "stdout",
          "text": [
            "True\n"
          ]
        }
      ]
    },
    {
      "cell_type": "markdown",
      "source": [
        "**Q15.** Can you modify the elements of a tuple? Explain why or why not.  \n",
        "Ans: In Python, tuples are immutable, meaning that once they are created, their elements cannot be changed, added, or removed.But there is a workaround, we can convert the tuple into a list, change the list,add your item(s) and convert the list back into a tuple ."
      ],
      "metadata": {
        "id": "609DN4sfYFK0"
      }
    },
    {
      "cell_type": "markdown",
      "source": [
        "**Q16.** What is a nested dictionary, and give an example of its use case ?  \n",
        "Ans: Nested dictionary refers to the dictionary inside a dictionary. In simple words, it refers to the dictionary, which consists of a set of multiple dictionaries. It is used to store the data values in key-value pairs. Nesting Dictionary means putting a dictionary inside another dictionary.  \n",
        "eg.In the below program, kids is a nested dictionary. The internal dictionary 1 and 2 is assigned to kids. Here, both the dictionary have key name, age , sex with different values. Now, we print the result of kids."
      ],
      "metadata": {
        "id": "BoUkroeJYIq0"
      }
    },
    {
      "cell_type": "code",
      "source": [
        "# example of Nested dictionary :\n",
        "kids={1: {'name': 'Avi', 'age': '7', 'sex': 'Male'},\n",
        "          2: {'name': 'Advi', 'age': '12', 'sex': 'Female'}}\n",
        "print(kids)"
      ],
      "metadata": {
        "id": "imYXzyM9cQrP"
      },
      "execution_count": null,
      "outputs": []
    },
    {
      "cell_type": "markdown",
      "source": [
        "**Q17.** Describe the time complexity of accessing elements in a dictionary.  \n",
        "Ans : Dictionary lookups in Python also have an average time complexity of O(1). This means that, on average, the time taken to retrieve an element from a dictionary is constant and does not depend on the size of the dictionary."
      ],
      "metadata": {
        "id": "JPZZeHwYYOgs"
      }
    },
    {
      "cell_type": "markdown",
      "source": [
        "**Q18.**In what situations are lists preferred over dictionaries ?    \n",
        "Ans:1.**When the order of elements is important**: if the order of the elements is important in the data structure we need for our application, then use a list. That’s because a list is an ordered sequence of objects.  \n",
        "2.**If we need numerical indexes**: lists allow accessing their elements using a numerical index. So, if we have a requirement to access the elements in our data structure using a numerical index then lists are the right choice.  \n",
        "3.**When duplicate data is allowed**: use lists if allowing duplicate values is a requirement in our application."
      ],
      "metadata": {
        "id": "pYCzNdjSYR8N"
      }
    },
    {
      "cell_type": "markdown",
      "source": [
        "**Q19.** Why are dictionaries considered unordered, and how does that affect data retrieval?  \n",
        "Ans:A dictionary is termed an unordered collection of objects because dictionaries do not maintain any inherent order of the items based on when they were added. In older versions of Python, dictionaries did not preserve insertion order at all. This meant that when you accessed or printed the items, the order could vary,because their primary function is fast key-based access, and they are not intended to be used as ordered collections like lists or tuples. So even though they appear ordered in new version Python, the emphasis is still on key-value mapping rather than sequence."
      ],
      "metadata": {
        "id": "o1Bbf8KIYUyI"
      }
    },
    {
      "cell_type": "markdown",
      "source": [
        "**Q20.**  Explain the difference between a list and a dictionary in terms of data retrieval.  \n",
        "Ans: A list is an ordered collection of items, whereas a dictionary is an unordered data collection in a key: value pair.  \n",
        "Elements from the list can be accessed using the index, while the elements of the dictionary can be accessed using keys."
      ],
      "metadata": {
        "id": "J4Bp5t5uYXYS"
      }
    },
    {
      "cell_type": "markdown",
      "source": [
        "# **Practicle Questions:**"
      ],
      "metadata": {
        "id": "QY7bpRa_Ya2D"
      }
    },
    {
      "cell_type": "code",
      "source": [
        "# Q1. Write a code to create a string with your name and print it .\n",
        "a = \"ADWITA\"\n",
        "print(a)"
      ],
      "metadata": {
        "colab": {
          "base_uri": "https://localhost:8080/"
        },
        "id": "INRnWBiB4ju5",
        "outputId": "dff5dcad-f829-48dd-d61b-5691c3f156a1"
      },
      "execution_count": 2,
      "outputs": [
        {
          "output_type": "stream",
          "name": "stdout",
          "text": [
            "ADWITA\n"
          ]
        }
      ]
    },
    {
      "cell_type": "code",
      "source": [
        "# Q2. Write a code to find the length of the string \"Hello World\n",
        "word = \"Hello World\"\n",
        "print(len(word))"
      ],
      "metadata": {
        "colab": {
          "base_uri": "https://localhost:8080/"
        },
        "id": "m0IaUKd143Y4",
        "outputId": "cf897ea3-bf09-4a53-8b4a-3591d202f6b3"
      },
      "execution_count": 4,
      "outputs": [
        {
          "output_type": "stream",
          "name": "stdout",
          "text": [
            "11\n"
          ]
        }
      ]
    },
    {
      "cell_type": "code",
      "source": [
        "# Q3. Write a code to slice the first 3 characters from the string \"Python Programming\"\n",
        "a = \"Python Programming\"\n",
        "print(a[0:3])"
      ],
      "metadata": {
        "colab": {
          "base_uri": "https://localhost:8080/"
        },
        "id": "uj81YfUy4-jK",
        "outputId": "2aa7b245-e6c3-4718-bbb6-263c061d652b"
      },
      "execution_count": 7,
      "outputs": [
        {
          "output_type": "stream",
          "name": "stdout",
          "text": [
            "Pyt\n"
          ]
        }
      ]
    },
    {
      "cell_type": "code",
      "source": [
        "# Q4. Write a code to convert the string \"hello\" to uppercase.\n",
        "b = \"hello\"\n",
        "print(b.upper())"
      ],
      "metadata": {
        "colab": {
          "base_uri": "https://localhost:8080/"
        },
        "id": "dzts38rb5Ptl",
        "outputId": "fbc992b2-7d96-410d-eef0-41bf75988d42"
      },
      "execution_count": 8,
      "outputs": [
        {
          "output_type": "stream",
          "name": "stdout",
          "text": [
            "HELLO\n"
          ]
        }
      ]
    },
    {
      "cell_type": "code",
      "source": [
        "# Q5. Write a code to replace the word \"apple\" with \"orange\" in the string \"I like apple.\n",
        "a =(\"I like apple\")\n",
        "b =a.replace(\"apple\" , \"orange\")\n",
        "print(b)"
      ],
      "metadata": {
        "colab": {
          "base_uri": "https://localhost:8080/"
        },
        "id": "WKkce6Nr5qBN",
        "outputId": "dcd77fa7-c459-4ad6-e685-0693f16e707b"
      },
      "execution_count": 10,
      "outputs": [
        {
          "output_type": "stream",
          "name": "stdout",
          "text": [
            "I like orange\n"
          ]
        }
      ]
    },
    {
      "cell_type": "code",
      "source": [
        "# Q6. Write a code to create a list with numbers 1 to 5 and print it\n",
        "list = [1,2,3,4,5]\n",
        "print(list)"
      ],
      "metadata": {
        "colab": {
          "base_uri": "https://localhost:8080/"
        },
        "id": "-tMVLmkO5_WQ",
        "outputId": "1f7acce9-1068-443f-e4c1-f6dd3821ec6a"
      },
      "execution_count": 11,
      "outputs": [
        {
          "output_type": "stream",
          "name": "stdout",
          "text": [
            "[1, 2, 3, 4, 5]\n"
          ]
        }
      ]
    },
    {
      "cell_type": "code",
      "source": [
        "# Q7. Write a code to append the number 10 to the list [1, 2, 3, 4].\n",
        "list = [1,2,3,4]\n",
        "list.append(10)\n",
        "print(list)"
      ],
      "metadata": {
        "colab": {
          "base_uri": "https://localhost:8080/"
        },
        "id": "d2uFJDrg6QsL",
        "outputId": "1c72b2e2-e9c6-4be4-af5f-183849974db5"
      },
      "execution_count": 12,
      "outputs": [
        {
          "output_type": "stream",
          "name": "stdout",
          "text": [
            "[1, 2, 3, 4, 10]\n"
          ]
        }
      ]
    },
    {
      "cell_type": "code",
      "source": [
        "# Q8. Write a code to remove the number 3 from the list [1, 2, 3, 4, 5]\n",
        "list = [1,2,3,4,5]\n",
        "list.remove(3)\n",
        "print(list)"
      ],
      "metadata": {
        "colab": {
          "base_uri": "https://localhost:8080/"
        },
        "id": "6DwzpkaF6bOi",
        "outputId": "bb736274-39e2-4156-e9a7-b7fd17cc55f3"
      },
      "execution_count": 13,
      "outputs": [
        {
          "output_type": "stream",
          "name": "stdout",
          "text": [
            "[1, 2, 4, 5]\n"
          ]
        }
      ]
    },
    {
      "cell_type": "code",
      "source": [
        "# Q9. Write a code to access the second element in the list ['a', 'b', 'c', 'd']\n",
        "list = ['a', 'b', 'c', 'd']\n",
        "print(list[1])"
      ],
      "metadata": {
        "colab": {
          "base_uri": "https://localhost:8080/"
        },
        "id": "GTdsqerF7upG",
        "outputId": "389ebb59-3c25-44c8-963d-40089816f8a4"
      },
      "execution_count": 14,
      "outputs": [
        {
          "output_type": "stream",
          "name": "stdout",
          "text": [
            "b\n"
          ]
        }
      ]
    },
    {
      "cell_type": "code",
      "source": [
        "# Q10.Write a code to reverse the list [10, 20, 30, 40, 50]\n",
        "list = [10, 20, 30, 40, 50]\n",
        "list.reverse()\n",
        "print(list)"
      ],
      "metadata": {
        "colab": {
          "base_uri": "https://localhost:8080/"
        },
        "id": "nYJhxwP8741F",
        "outputId": "5f6d3a66-f234-42f8-8662-bb4689a84f9f"
      },
      "execution_count": 15,
      "outputs": [
        {
          "output_type": "stream",
          "name": "stdout",
          "text": [
            "[50, 40, 30, 20, 10]\n"
          ]
        }
      ]
    },
    {
      "cell_type": "code",
      "source": [
        "# Q11.Write a code to create a tuple with the elements 10, 20, 30 and print it.\n",
        "tuple = (10,20,30)\n",
        "print(tuple)"
      ],
      "metadata": {
        "colab": {
          "base_uri": "https://localhost:8080/"
        },
        "id": "MpIVaHaT8J8g",
        "outputId": "d7b8775e-0e9b-4970-a3d9-f7762cf0122c"
      },
      "execution_count": 17,
      "outputs": [
        {
          "output_type": "stream",
          "name": "stdout",
          "text": [
            "(10, 20, 30)\n"
          ]
        }
      ]
    },
    {
      "cell_type": "code",
      "source": [
        "# Q12.Write a code to access the first element of the tuple ('apple', 'banana', 'cherry').\n",
        "tuple = ('apple', 'banana', 'cherry')\n",
        "print(tuple[0])"
      ],
      "metadata": {
        "colab": {
          "base_uri": "https://localhost:8080/"
        },
        "id": "EtOo-EG_8ejR",
        "outputId": "0f4ad4a5-4d4c-4706-a8d8-9256a6163f81"
      },
      "execution_count": 18,
      "outputs": [
        {
          "output_type": "stream",
          "name": "stdout",
          "text": [
            "apple\n"
          ]
        }
      ]
    },
    {
      "cell_type": "code",
      "source": [
        "# Q13.Write a code to count how many times the number 2 appears in the tuple (1, 2, 3, 2, 4, 2).\n",
        "tuple = (1, 2, 3, 2, 4, 2)\n",
        "print(tuple.count(2))"
      ],
      "metadata": {
        "colab": {
          "base_uri": "https://localhost:8080/"
        },
        "id": "LVZrhj7M9A-E",
        "outputId": "5a58b44f-f574-4ac6-9496-33476a562114"
      },
      "execution_count": 19,
      "outputs": [
        {
          "output_type": "stream",
          "name": "stdout",
          "text": [
            "3\n"
          ]
        }
      ]
    },
    {
      "cell_type": "code",
      "source": [
        "# Q14.Write a code to find the index of the element \"cat\" in the tuple ('dog', 'cat', 'rabbit').\n",
        "tuple = ('dog', 'cat', 'rabbit')\n",
        "print(tuple.index('cat'))"
      ],
      "metadata": {
        "colab": {
          "base_uri": "https://localhost:8080/"
        },
        "id": "3GvOqHxF9Q8e",
        "outputId": "1281598f-bdad-4c90-955d-3f0c6a1b66a1"
      },
      "execution_count": 20,
      "outputs": [
        {
          "output_type": "stream",
          "name": "stdout",
          "text": [
            "1\n"
          ]
        }
      ]
    },
    {
      "cell_type": "code",
      "source": [
        "# Q15.Write a code to check if the element \"banana\" is in the tuple ('apple', 'orange', 'banana')\n",
        "tuple = ('apple', 'orange', 'banana')\n",
        "print('banana' in tuple)"
      ],
      "metadata": {
        "colab": {
          "base_uri": "https://localhost:8080/"
        },
        "id": "5qO2eGID9qMd",
        "outputId": "2e4b9440-2567-4440-96af-7e12e5a071a7"
      },
      "execution_count": 21,
      "outputs": [
        {
          "output_type": "stream",
          "name": "stdout",
          "text": [
            "True\n"
          ]
        }
      ]
    },
    {
      "cell_type": "code",
      "source": [
        "# Q16.Write a code to create a set with the elements 1, 2, 3, 4, 5 and print it\n",
        "set = {1,2,3,4,5}\n",
        "print(set)"
      ],
      "metadata": {
        "colab": {
          "base_uri": "https://localhost:8080/"
        },
        "id": "1BLsF0fr97kh",
        "outputId": "ae7eb809-4bc5-4a7c-91da-3910c13ac948"
      },
      "execution_count": 22,
      "outputs": [
        {
          "output_type": "stream",
          "name": "stdout",
          "text": [
            "{1, 2, 3, 4, 5}\n"
          ]
        }
      ]
    },
    {
      "cell_type": "code",
      "source": [
        "# Q17.Write a code to add the element 6 to the set {1, 2, 3, 4}\n",
        "set = {1,2,3,4}\n",
        "set.add(6)\n",
        "print(set)"
      ],
      "metadata": {
        "colab": {
          "base_uri": "https://localhost:8080/"
        },
        "id": "7FiHgqgE-NDQ",
        "outputId": "ffcf8963-ce3e-4e08-bba9-333cbface763"
      },
      "execution_count": 23,
      "outputs": [
        {
          "output_type": "stream",
          "name": "stdout",
          "text": [
            "{1, 2, 3, 4, 6}\n"
          ]
        }
      ]
    },
    {
      "cell_type": "code",
      "source": [
        "# Q18.Write a code to create a tuple with the elements 10, 20, 30 and print it.\n",
        "tuple = (10,20,30)\n",
        "print(tuple)"
      ],
      "metadata": {
        "colab": {
          "base_uri": "https://localhost:8080/"
        },
        "id": "hEgWbXIQ-nKC",
        "outputId": "f7799965-993b-4cc7-8280-187db3757600"
      },
      "execution_count": 24,
      "outputs": [
        {
          "output_type": "stream",
          "name": "stdout",
          "text": [
            "(10, 20, 30)\n"
          ]
        }
      ]
    },
    {
      "cell_type": "code",
      "source": [
        "# Q19.Write a code to access the first element of the tuple ('apple', 'banana', 'cherry')\n",
        "tuple = ('apple', 'banana', 'cherry')\n",
        "print(tuple[0])"
      ],
      "metadata": {
        "colab": {
          "base_uri": "https://localhost:8080/"
        },
        "id": "6-qnljri--9t",
        "outputId": "9edbe015-22d8-4b72-b438-3f371f0e136b"
      },
      "execution_count": 25,
      "outputs": [
        {
          "output_type": "stream",
          "name": "stdout",
          "text": [
            "apple\n"
          ]
        }
      ]
    },
    {
      "cell_type": "code",
      "source": [
        "# Q20.Write a code to count how many times the number 2 appears in the tuple (1, 2, 3, 2, 4, 2)\n",
        "tuple = (1, 2, 3, 2, 4, 2)\n",
        "print(tuple.count(2))"
      ],
      "metadata": {
        "colab": {
          "base_uri": "https://localhost:8080/"
        },
        "id": "_9AUS7CU_J5Q",
        "outputId": "b0f5d06f-a77f-4d25-b914-38edcc7776ee"
      },
      "execution_count": 26,
      "outputs": [
        {
          "output_type": "stream",
          "name": "stdout",
          "text": [
            "3\n"
          ]
        }
      ]
    },
    {
      "cell_type": "code",
      "source": [
        "# Q21.Write a code to find the index of the element \"cat\" in the tuple ('dog', 'cat', 'rabbit')\n",
        "tuple = ('dog', 'cat', 'rabbit')\n",
        "print(tuple.index('cat'))"
      ],
      "metadata": {
        "colab": {
          "base_uri": "https://localhost:8080/"
        },
        "id": "13GoOu1i_pk5",
        "outputId": "7b70d3fc-00b3-4b92-eb98-82b557922455"
      },
      "execution_count": 27,
      "outputs": [
        {
          "output_type": "stream",
          "name": "stdout",
          "text": [
            "1\n"
          ]
        }
      ]
    },
    {
      "cell_type": "code",
      "source": [
        "# Q22. Write a code to check if the element \"banana\" is in the tuple ('apple', 'orange', 'banana')\n",
        "tuple = ('apple', 'orange', 'banana')\n",
        "print('banana' in tuple)"
      ],
      "metadata": {
        "colab": {
          "base_uri": "https://localhost:8080/"
        },
        "id": "emx7Seu9Acz4",
        "outputId": "3527ace9-ecb0-4277-e9bc-173af0e87bf1"
      },
      "execution_count": 28,
      "outputs": [
        {
          "output_type": "stream",
          "name": "stdout",
          "text": [
            "True\n"
          ]
        }
      ]
    },
    {
      "cell_type": "code",
      "source": [
        "# Q23.Write a code to create a set with the elements 1, 2, 3, 4, 5 and print it\n",
        "set = {1,2,3,4,5}\n",
        "print(set)"
      ],
      "metadata": {
        "colab": {
          "base_uri": "https://localhost:8080/"
        },
        "id": "aXtO9kQ1Am41",
        "outputId": "07c6f024-9a2c-4ffe-9869-ee614d772ea5"
      },
      "execution_count": 29,
      "outputs": [
        {
          "output_type": "stream",
          "name": "stdout",
          "text": [
            "{1, 2, 3, 4, 5}\n"
          ]
        }
      ]
    },
    {
      "cell_type": "code",
      "source": [
        "# Q24.Write a code to add the element 6 to the set {1, 2, 3, 4}\n",
        "set = {1,2,3,4}\n",
        "set.add(6)\n",
        "print(set)"
      ],
      "metadata": {
        "colab": {
          "base_uri": "https://localhost:8080/"
        },
        "id": "WRX26rs8Av3a",
        "outputId": "5cfeb1e0-a161-4e8b-8d3d-1a78bc8bf7ee"
      },
      "execution_count": 30,
      "outputs": [
        {
          "output_type": "stream",
          "name": "stdout",
          "text": [
            "{1, 2, 3, 4, 6}\n"
          ]
        }
      ]
    }
  ]
}